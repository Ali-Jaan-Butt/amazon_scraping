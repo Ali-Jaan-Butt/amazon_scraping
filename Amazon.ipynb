{
 "cells": [
  {
   "cell_type": "code",
   "execution_count": 1,
   "id": "83c5eb86",
   "metadata": {},
   "outputs": [],
   "source": [
    "import requests\n",
    "from scrapy import Selector\n",
    "import pandas as pd\n",
    "from selenium import webdriver\n",
    "from selenium.webdriver.common.keys import Keys\n",
    "from selenium.webdriver.common.by import By\n",
    "import time\n",
    "from tqdm import tqdm\n",
    "import undetected_chromedriver as uc"
   ]
  },
  {
   "cell_type": "code",
   "execution_count": 2,
   "id": "5ef7e326",
   "metadata": {},
   "outputs": [
    {
     "name": "stderr",
     "output_type": "stream",
     "text": [
      "Error getting version of chromedriver 115. Retrying with chromedriver 114 (attempt 1/5)\n"
     ]
    }
   ],
   "source": [
    "driver = webdriver.Chrome()\n",
    "driver.get('https://www.amazon.sa/-/en/b/ref=mh_s9_acss_cg_aeappsbc_3e1_w?node=12463333031&pf_rd_m=A2XPWB6MYN7ZDK&pf_rd_s=mobile-hybrid-3&pf_rd_r=SNF3DAYM6MDVDD51PE64&pf_rd_t=30901&pf_rd_p=65de6af7-be4c-43ed-9007-4406865851b0&pf_rd_i=26449543031')"
   ]
  },
  {
   "cell_type": "code",
   "execution_count": 6,
   "id": "cd889f21",
   "metadata": {},
   "outputs": [],
   "source": [
    "Products = {'URL':[],'Name':[],'Price':[],'Brand':[],'Ranks':[],'Rating':[],'Reviews':[],'Description':[],'ASIN':[],'Manufecturer':[],'Image_url':[]}"
   ]
  },
  {
   "cell_type": "code",
   "execution_count": 7,
   "id": "2b970749",
   "metadata": {
    "collapsed": true
   },
   "outputs": [
    {
     "name": "stderr",
     "output_type": "stream",
     "text": [
      "  0%|                                                                                          | 0/400 [00:29<?, ?it/s]\n"
     ]
    },
    {
     "ename": "NoSuchWindowException",
     "evalue": "Message: no such window: target window already closed\nfrom unknown error: web view not found\n  (Session info: chrome=114.0.5735.110)\nStacktrace:\nBacktrace:\n\tGetHandleVerifier [0x00D88893+48451]\n\t(No symbol) [0x00D1B8A1]\n\t(No symbol) [0x00C25058]\n\t(No symbol) [0x00C0D073]\n\t(No symbol) [0x00C6DEBB]\n\t(No symbol) [0x00C7BFD3]\n\t(No symbol) [0x00C6A0B6]\n\t(No symbol) [0x00C47E08]\n\t(No symbol) [0x00C48F2D]\n\tGetHandleVerifier [0x00FE8E3A+2540266]\n\tGetHandleVerifier [0x01028959+2801161]\n\tGetHandleVerifier [0x0102295C+2776588]\n\tGetHandleVerifier [0x00E12280+612144]\n\t(No symbol) [0x00D24F6C]\n\t(No symbol) [0x00D211D8]\n\t(No symbol) [0x00D212BB]\n\t(No symbol) [0x00D14857]\n\tBaseThreadInitThunk [0x757D00C9+25]\n\tRtlGetAppContainerNamedObjectPath [0x77977B4E+286]\n\tRtlGetAppContainerNamedObjectPath [0x77977B1E+238]\n",
     "output_type": "error",
     "traceback": [
      "\u001b[1;31m---------------------------------------------------------------------------\u001b[0m",
      "\u001b[1;31mNoSuchWindowException\u001b[0m                     Traceback (most recent call last)",
      "Input \u001b[1;32mIn [7]\u001b[0m, in \u001b[0;36m<cell line: 4>\u001b[1;34m()\u001b[0m\n\u001b[0;32m     18\u001b[0m driver\u001b[38;5;241m.\u001b[39mget(l)\n\u001b[0;32m     19\u001b[0m time\u001b[38;5;241m.\u001b[39msleep(\u001b[38;5;241m1\u001b[39m)\n\u001b[1;32m---> 20\u001b[0m sel2 \u001b[38;5;241m=\u001b[39m Selector(text\u001b[38;5;241m=\u001b[39m\u001b[43mdriver\u001b[49m\u001b[38;5;241;43m.\u001b[39;49m\u001b[43mpage_source\u001b[49m)\n\u001b[0;32m     21\u001b[0m Products[\u001b[38;5;124m'\u001b[39m\u001b[38;5;124mURL\u001b[39m\u001b[38;5;124m'\u001b[39m]\u001b[38;5;241m.\u001b[39mappend(l) \u001b[38;5;66;03m# Product Url\u001b[39;00m\n\u001b[0;32m     22\u001b[0m Products[\u001b[38;5;124m'\u001b[39m\u001b[38;5;124mName\u001b[39m\u001b[38;5;124m'\u001b[39m]\u001b[38;5;241m.\u001b[39mappend(sel2\u001b[38;5;241m.\u001b[39mxpath(\u001b[38;5;124m'\u001b[39m\u001b[38;5;124m//span[@id=\u001b[39m\u001b[38;5;124m\"\u001b[39m\u001b[38;5;124mproductTitle\u001b[39m\u001b[38;5;124m\"\u001b[39m\u001b[38;5;124m]/text()\u001b[39m\u001b[38;5;124m'\u001b[39m)\u001b[38;5;241m.\u001b[39mextract_first()) \u001b[38;5;66;03m# Product Name\u001b[39;00m\n",
      "File \u001b[1;32m~\\anaconda3\\lib\\site-packages\\selenium\\webdriver\\remote\\webdriver.py:932\u001b[0m, in \u001b[0;36mWebDriver.page_source\u001b[1;34m(self)\u001b[0m\n\u001b[0;32m    922\u001b[0m \u001b[38;5;129m@property\u001b[39m\n\u001b[0;32m    923\u001b[0m \u001b[38;5;28;01mdef\u001b[39;00m \u001b[38;5;21mpage_source\u001b[39m(\u001b[38;5;28mself\u001b[39m) \u001b[38;5;241m-\u001b[39m\u001b[38;5;241m>\u001b[39m \u001b[38;5;28mstr\u001b[39m:\n\u001b[0;32m    924\u001b[0m     \u001b[38;5;124;03m\"\"\"\u001b[39;00m\n\u001b[0;32m    925\u001b[0m \u001b[38;5;124;03m    Gets the source of the current page.\u001b[39;00m\n\u001b[0;32m    926\u001b[0m \n\u001b[1;32m   (...)\u001b[0m\n\u001b[0;32m    930\u001b[0m \u001b[38;5;124;03m            driver.page_source\u001b[39;00m\n\u001b[0;32m    931\u001b[0m \u001b[38;5;124;03m    \"\"\"\u001b[39;00m\n\u001b[1;32m--> 932\u001b[0m     \u001b[38;5;28;01mreturn\u001b[39;00m \u001b[38;5;28;43mself\u001b[39;49m\u001b[38;5;241;43m.\u001b[39;49m\u001b[43mexecute\u001b[49m\u001b[43m(\u001b[49m\u001b[43mCommand\u001b[49m\u001b[38;5;241;43m.\u001b[39;49m\u001b[43mGET_PAGE_SOURCE\u001b[49m\u001b[43m)\u001b[49m[\u001b[38;5;124m'\u001b[39m\u001b[38;5;124mvalue\u001b[39m\u001b[38;5;124m'\u001b[39m]\n",
      "File \u001b[1;32m~\\anaconda3\\lib\\site-packages\\selenium\\webdriver\\remote\\webdriver.py:430\u001b[0m, in \u001b[0;36mWebDriver.execute\u001b[1;34m(self, driver_command, params)\u001b[0m\n\u001b[0;32m    428\u001b[0m response \u001b[38;5;241m=\u001b[39m \u001b[38;5;28mself\u001b[39m\u001b[38;5;241m.\u001b[39mcommand_executor\u001b[38;5;241m.\u001b[39mexecute(driver_command, params)\n\u001b[0;32m    429\u001b[0m \u001b[38;5;28;01mif\u001b[39;00m response:\n\u001b[1;32m--> 430\u001b[0m     \u001b[38;5;28;43mself\u001b[39;49m\u001b[38;5;241;43m.\u001b[39;49m\u001b[43merror_handler\u001b[49m\u001b[38;5;241;43m.\u001b[39;49m\u001b[43mcheck_response\u001b[49m\u001b[43m(\u001b[49m\u001b[43mresponse\u001b[49m\u001b[43m)\u001b[49m\n\u001b[0;32m    431\u001b[0m     response[\u001b[38;5;124m'\u001b[39m\u001b[38;5;124mvalue\u001b[39m\u001b[38;5;124m'\u001b[39m] \u001b[38;5;241m=\u001b[39m \u001b[38;5;28mself\u001b[39m\u001b[38;5;241m.\u001b[39m_unwrap_value(\n\u001b[0;32m    432\u001b[0m         response\u001b[38;5;241m.\u001b[39mget(\u001b[38;5;124m'\u001b[39m\u001b[38;5;124mvalue\u001b[39m\u001b[38;5;124m'\u001b[39m, \u001b[38;5;28;01mNone\u001b[39;00m))\n\u001b[0;32m    433\u001b[0m     \u001b[38;5;28;01mreturn\u001b[39;00m response\n",
      "File \u001b[1;32m~\\anaconda3\\lib\\site-packages\\selenium\\webdriver\\remote\\errorhandler.py:247\u001b[0m, in \u001b[0;36mErrorHandler.check_response\u001b[1;34m(self, response)\u001b[0m\n\u001b[0;32m    245\u001b[0m         alert_text \u001b[38;5;241m=\u001b[39m value[\u001b[38;5;124m'\u001b[39m\u001b[38;5;124malert\u001b[39m\u001b[38;5;124m'\u001b[39m]\u001b[38;5;241m.\u001b[39mget(\u001b[38;5;124m'\u001b[39m\u001b[38;5;124mtext\u001b[39m\u001b[38;5;124m'\u001b[39m)\n\u001b[0;32m    246\u001b[0m     \u001b[38;5;28;01mraise\u001b[39;00m exception_class(message, screen, stacktrace, alert_text)  \u001b[38;5;66;03m# type: ignore[call-arg]  # mypy is not smart enough here\u001b[39;00m\n\u001b[1;32m--> 247\u001b[0m \u001b[38;5;28;01mraise\u001b[39;00m exception_class(message, screen, stacktrace)\n",
      "\u001b[1;31mNoSuchWindowException\u001b[0m: Message: no such window: target window already closed\nfrom unknown error: web view not found\n  (Session info: chrome=114.0.5735.110)\nStacktrace:\nBacktrace:\n\tGetHandleVerifier [0x00D88893+48451]\n\t(No symbol) [0x00D1B8A1]\n\t(No symbol) [0x00C25058]\n\t(No symbol) [0x00C0D073]\n\t(No symbol) [0x00C6DEBB]\n\t(No symbol) [0x00C7BFD3]\n\t(No symbol) [0x00C6A0B6]\n\t(No symbol) [0x00C47E08]\n\t(No symbol) [0x00C48F2D]\n\tGetHandleVerifier [0x00FE8E3A+2540266]\n\tGetHandleVerifier [0x01028959+2801161]\n\tGetHandleVerifier [0x0102295C+2776588]\n\tGetHandleVerifier [0x00E12280+612144]\n\t(No symbol) [0x00D24F6C]\n\t(No symbol) [0x00D211D8]\n\t(No symbol) [0x00D212BB]\n\t(No symbol) [0x00D14857]\n\tBaseThreadInitThunk [0x757D00C9+25]\n\tRtlGetAppContainerNamedObjectPath [0x77977B4E+286]\n\tRtlGetAppContainerNamedObjectPath [0x77977B1E+238]\n"
     ]
    }
   ],
   "source": [
    "li = []\n",
    "sel = Selector(text=driver.page_source)\n",
    "li = sel.xpath('//li[@class=\"octopus-pc-category-card-v2-item\"]//div[@class=\"a-section octopus-pc-category-card-v2-item-block\"]/a/@href').extract() # category link\n",
    "for j in li:\n",
    "    driver.get('https://www.amazon.sa/'+j)\n",
    "    try:\n",
    "        driver.find_element('xpath','//span[contains(text(),\"See all results\")]').click()\n",
    "    except:\n",
    "        pass\n",
    "    sel = Selector(text=driver.page_source)\n",
    "    pages = sel.xpath('//span[@class=\"s-pagination-item s-pagination-disabled\"]/text()').extract_first()\n",
    "    for i in tqdm(range(1,int(pages)+1)):\n",
    "        sel = Selector(text=driver.page_source)\n",
    "        links = ['https://www.amazon.sa/'+i.xpath('.//a[@class=\"a-link-normal s-underline-text s-underline-link-text s-link-style a-text-normal\"]/@href').extract_first() for i in sel.xpath('//div[@data-component-type=\"s-search-result\"]') if i.xpath('.//span[@class=\"a-color-base\"]/text()').extract_first()!='Sponsored']\n",
    "        driver.execute_script(\"window.open('');\")\n",
    "        driver.switch_to.window(driver.window_handles[1])\n",
    "        for l in links:\n",
    "            driver.get(l)\n",
    "            time.sleep(1)\n",
    "            sel2 = Selector(text=driver.page_source)\n",
    "            Products['URL'].append(l) # Product Url\n",
    "            Products['Name'].append(sel2.xpath('//span[@id=\"productTitle\"]/text()').extract_first()) # Product Name\n",
    "            Products['Price'].append(sel2.xpath('//span[@class=\"a-price-whole\"]/text()').extract_first()) # Product Price\n",
    "            Products['Brand'].append(sel2.xpath('//div[@class=\"a-section a-spacing-none\"]/a/text()').extract()) # Brand\n",
    "            ranks = sel2.xpath('//span[text()=\" Best Sellers Rank: \"]/../../../li/span[@class=\"a-list-item\"]//text()').extract()\n",
    "            ranks = ' '.join([item.strip() for item in ranks if item.strip()])\n",
    "            if ranks==None:\n",
    "                ra = sel2.xpath('//th[contains(text(),\" Best Sellers Rank \")]/following-sibling::td//span/text()').extract()\n",
    "                ra = ' '.join([item.strip() for item in ra if item.strip()])\n",
    "                nk = sel2.xpath('//th[contains(text(),\" Best Sellers Rank \")]/following-sibling::td//a/text()').extract()[1:][0]\n",
    "                rank = ra + nk\n",
    "                Products['Ranks'].append(rank)\n",
    "            else:\n",
    "                Products['Ranks'].append(ranks)\n",
    "            Products['Rating'].append(sel2.xpath('//span[@class=\"a-icon-alt\"]/text()').extract_first()) # Rating\n",
    "            if sel2.xpath('//span[@id=\"acrCustomerReviewText\"]/text()').extract_first()!=None:\n",
    "                Products['Reviews'].append(sel2.xpath('//span[@id=\"acrCustomerReviewText\"]/text()').extract_first().split()[0])# Number of Reviews\n",
    "            else:\n",
    "                Products['Reviews'].append(None)\n",
    "            Products['Description'].append(''.join(sel2.xpath('.//ul[@class=\"a-unordered-list a-vertical a-spacing-mini\"]//text()').extract())) # Description\n",
    "            if sel2.xpath('//th[contains(text(),\" ASIN \")]/following-sibling::td/text()').extract_first()==None:\n",
    "                Products['ASIN'].append(sel2.xpath('//th[contains(text(),\" ASIN \")]/following-sibling::td/text()').extract_first())\n",
    "            else:\n",
    "                Products['ASIN'].append(' '.join(sel2.xpath('//th[contains(text(),\" ASIN \")]/following-sibling::td/text()').extract_first().split()).replace('\\u200e',''))\n",
    "            if sel2.xpath('//th[contains(text(),\" Manufacturer \")]/following-sibling::td/text()').extract_first()==None:\n",
    "                Products['Manufecturer'].append(None)\n",
    "            else:\n",
    "                Products['Manufecturer'].append(' '.join(sel2.xpath('//th[contains(text(),\" Manufacturer \")]/following-sibling::td/text()').extract_first().split()).replace('\\u200e',''))\n",
    "            Products['Image_url'].append(sel2.xpath('//div[@id=\"imgTagWrapperId\"]/img/@src').extract_first()) # Image url\n",
    "        driver.close()\n",
    "        driver.switch_to.window(driver.window_handles[0])\n",
    "        driver.find_element('xpath','//a[contains(text(),\"Next\")]').click()\n",
    "        time.sleep(2)"
   ]
  },
  {
   "cell_type": "code",
   "execution_count": 8,
   "id": "fd538671",
   "metadata": {},
   "outputs": [],
   "source": [
    "df = pd.DataFrame(Products)"
   ]
  },
  {
   "cell_type": "code",
   "execution_count": 9,
   "id": "f5a8c9b2",
   "metadata": {},
   "outputs": [],
   "source": [
    "df.to_excel('Appliances.xlsx',index=False)"
   ]
  }
 ],
 "metadata": {
  "kernelspec": {
   "display_name": "Python 3 (ipykernel)",
   "language": "python",
   "name": "python3"
  },
  "language_info": {
   "codemirror_mode": {
    "name": "ipython",
    "version": 3
   },
   "file_extension": ".py",
   "mimetype": "text/x-python",
   "name": "python",
   "nbconvert_exporter": "python",
   "pygments_lexer": "ipython3",
   "version": "3.11.3"
  }
 },
 "nbformat": 4,
 "nbformat_minor": 5
}
