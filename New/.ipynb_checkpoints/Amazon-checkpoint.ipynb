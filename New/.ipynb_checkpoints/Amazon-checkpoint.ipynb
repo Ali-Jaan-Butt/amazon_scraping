{
 "cells": [
  {
   "cell_type": "code",
   "execution_count": 2,
   "id": "83c5eb86",
   "metadata": {},
   "outputs": [],
   "source": [
    "import requests\n",
    "from scrapy import Selector\n",
    "import pandas as pd\n",
    "from selenium import webdriver\n",
    "from selenium.webdriver.common.keys import Keys\n",
    "from selenium.webdriver.common.by import By\n",
    "import time\n",
    "from tqdm import tqdm\n",
    "import undetected_chromedriver as uc\n",
    "import os"
   ]
  },
  {
   "cell_type": "code",
   "execution_count": 5,
   "id": "5ef7e326",
   "metadata": {},
   "outputs": [
    {
     "name": "stderr",
     "output_type": "stream",
     "text": [
      "C:\\Users\\DELL\\AppData\\Local\\Temp\\ipykernel_4244\\1624550255.py:1: DeprecationWarning: executable_path has been deprecated, please pass in a Service object\n",
      "  driver = webdriver.Chrome('../../chromedriver_win32/chromedriver.exe')\n"
     ]
    }
   ],
   "source": [
    "driver = webdriver.Chrome('../../chromedriver_win32/chromedriver.exe')\n",
    "driver.get('https://www.amazon.sa/-/en/gp/browse.html?node=16856217031&ref_=nav_em_kitchen_storage_0_2_14_7&language=en_AE')"
   ]
  },
  {
   "cell_type": "code",
   "execution_count": 6,
   "id": "cd889f21",
   "metadata": {},
   "outputs": [],
   "source": [
    "Products = {'URL':[],'Name':[],'Price':[],'Brand':[],'Ranks':[],'Rating':[],'Reviews':[],'Description':[],'ASIN':[],'Manufecturer':[],'Image_url':[]}"
   ]
  },
  {
   "cell_type": "code",
   "execution_count": null,
   "id": "2b970749",
   "metadata": {},
   "outputs": [
    {
     "name": "stderr",
     "output_type": "stream",
     "text": [
      "\r",
      "  0%|                                                                                          | 0/400 [00:00<?, ?it/s]"
     ]
    }
   ],
   "source": [
    "#li = []\n",
    "#sel = Selector(text=driver.page_source)\n",
    "#li = sel.xpath('//li[@class=\"octopus-pc-category-card-v2-item\"]//div[@class=\"a-section octopus-pc-category-card-v2-item-block\"]/a/@href').extract() # category link\n",
    "#for j in li:\n",
    "#    driver.get('https://www.amazon.sa/'+j)\n",
    "try:\n",
    "    driver.find_element('xpath','//span[contains(text(),\"See all results\")]').click()\n",
    "except:\n",
    "    pass\n",
    "sel = Selector(text=driver.page_source)\n",
    "try:\n",
    "    pages = sel.xpath('//span[@class=\"s-pagination-item s-pagination-disabled\"]/text()').extract_first()\n",
    "except:\n",
    "    pass\n",
    "try:\n",
    "    pages = sel.xpath('//ul[@class=\"a-pagination\"]/li/a/text()').extract()[-3]\n",
    "except:\n",
    "    pass\n",
    "for i in tqdm(range(1,int(pages)+1)):\n",
    "    sel = Selector(text=driver.page_source)\n",
    "    links = ['https://www.amazon.sa/'+i.xpath('.//a[@class=\"a-link-normal s-underline-text s-underline-link-text s-link-style a-text-normal\"]/@href').extract_first() for i in sel.xpath('//div[@data-component-type=\"s-search-result\"]') if i.xpath('.//span[@class=\"a-color-base\"]/text()').extract_first()!='Sponsored']\n",
    "    if links == []:\n",
    "        links = ['https://www.amazon.sa/'+u.xpath('//a[@class=\"a-link-normal\"]/@href').extract_first() for u in sel.xpath('//div[@class=\"a-column a-span12 a-text-center _cDEzb_grid-column_2hIsc\"]')]\n",
    "    else:\n",
    "        pass\n",
    "    driver.execute_script(\"window.open('');\")\n",
    "    driver.switch_to.window(driver.window_handles[1])\n",
    "    for l in links:\n",
    "        driver.get(l)\n",
    "        time.sleep(1)\n",
    "        sel2 = Selector(text=driver.page_source)\n",
    "        Products['URL'].append(l) # Product Url\n",
    "        Products['Name'].append(sel2.xpath('//span[@id=\"productTitle\"]/text()').extract_first()) # Product Name\n",
    "        Products['Price'].append(sel2.xpath('//span[@class=\"a-price-whole\"]/text()').extract_first()) # Product Price\n",
    "        Products['Brand'].append(sel2.xpath('//div[@class=\"a-section a-spacing-none\"]/a/text()').extract()) # Brand\n",
    "        ranks = sel2.xpath('//span[text()=\" Best Sellers Rank: \"]/../../../li/span[@class=\"a-list-item\"]//text()').extract()\n",
    "        ranks = ' '.join([item.strip() for item in ranks if item.strip()])\n",
    "        if ranks==None:\n",
    "            ra = sel2.xpath('//th[contains(text(),\" Best Sellers Rank \")]/following-sibling::td//span/text()').extract()\n",
    "            ra = ' '.join([item.strip() for item in ra if item.strip()])\n",
    "            nk = sel2.xpath('//th[contains(text(),\" Best Sellers Rank \")]/following-sibling::td//a/text()').extract()[1:][0]\n",
    "            rank = ra + nk\n",
    "            Products['Ranks'].append(rank)\n",
    "        else:\n",
    "            Products['Ranks'].append(ranks)\n",
    "        Products['Rating'].append(sel2.xpath('//span[@class=\"a-icon-alt\"]/text()').extract_first()) # Rating\n",
    "        if sel2.xpath('//span[@id=\"acrCustomerReviewText\"]/text()').extract_first()!=None:\n",
    "            Products['Reviews'].append(sel2.xpath('//span[@id=\"acrCustomerReviewText\"]/text()').extract_first().split()[0])# Number of Reviews\n",
    "        else:\n",
    "            Products['Reviews'].append(None)\n",
    "        Products['Description'].append(''.join(sel2.xpath('.//ul[@class=\"a-unordered-list a-vertical a-spacing-mini\"]//text()').extract())) # Description\n",
    "        if sel2.xpath('//th[contains(text(),\" ASIN \")]/following-sibling::td/text()').extract_first()==None:\n",
    "            Products['ASIN'].append(sel2.xpath('//th[contains(text(),\" ASIN \")]/following-sibling::td/text()').extract_first())\n",
    "        else:\n",
    "            Products['ASIN'].append(' '.join(sel2.xpath('//th[contains(text(),\" ASIN \")]/following-sibling::td/text()').extract_first().split()).replace('\\u200e',''))\n",
    "        if sel2.xpath('//th[contains(text(),\" Manufacturer \")]/following-sibling::td/text()').extract_first()==None:\n",
    "            Products['Manufecturer'].append(None)\n",
    "        else:\n",
    "            Products['Manufecturer'].append(' '.join(sel2.xpath('//th[contains(text(),\" Manufacturer \")]/following-sibling::td/text()').extract_first().split()).replace('\\u200e',''))\n",
    "        Products['Image_url'].append(sel2.xpath('//div[@id=\"imgTagWrapperId\"]/img/@src').extract_first()) # Image url\n",
    "    driver.close()\n",
    "    driver.switch_to.window(driver.window_handles[0])\n",
    "    time.sleep(2)\n",
    "    try:\n",
    "        driver.find_element('xpath','//a[contains(text(),\"Next\")]').click()\n",
    "    except:\n",
    "        pass\n",
    "    try:\n",
    "        driver.find_element('xpath','//a[contains(text(),\"Next page\")]').click()\n",
    "    except:\n",
    "        pass\n",
    "    time.sleep(2)"
   ]
  },
  {
   "cell_type": "code",
   "execution_count": 81,
   "id": "fd538671",
   "metadata": {},
   "outputs": [],
   "source": [
    "df = pd.DataFrame(Products)"
   ]
  },
  {
   "cell_type": "code",
   "execution_count": 82,
   "id": "f5a8c9b2",
   "metadata": {},
   "outputs": [],
   "source": [
    "df.to_excel('best_sells3.xlsx',index=False)"
   ]
  },
  {
   "cell_type": "code",
   "execution_count": null,
   "id": "aa851651",
   "metadata": {},
   "outputs": [],
   "source": []
  }
 ],
 "metadata": {
  "kernelspec": {
   "display_name": "Python 3 (ipykernel)",
   "language": "python",
   "name": "python3"
  },
  "language_info": {
   "codemirror_mode": {
    "name": "ipython",
    "version": 3
   },
   "file_extension": ".py",
   "mimetype": "text/x-python",
   "name": "python",
   "nbconvert_exporter": "python",
   "pygments_lexer": "ipython3",
   "version": "3.9.12"
  }
 },
 "nbformat": 4,
 "nbformat_minor": 5
}
